import pandas as pd
from sklearn.metrics import r2_score
from sklearn.model_selection import train_test_split
from sklearn.preprocessing import OneHotEncoder


# Chargement des données
data = pd.read_excel("./gross_emission.xlsx")

data.head(20)


# Sélection des colonnes catégorielles à encoder
categorical_columns = ["country", "region", "department"]
data[categorical_columns].head(10)




# Encodage one-hot des variables catégorielles
encoder = OneHotEncoder(drop='first', sparse=False)
encoded_data = encoder.fit_transform(data[categorical_columns])

encoded_data


# Obtenez les noms des nouvelles colonnes après l'encodage
new_columns = encoder.get_feature_names_out(categorical_columns)

# Créer un DataFrame avec les données encodées
data_encoded = pd.concat([data.drop(categorical_columns, axis=1), pd.DataFrame(encoded_data, columns=new_columns)], axis=1)
data_encoded.head(10)



